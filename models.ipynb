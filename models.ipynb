{
 "cells": [
  {
   "cell_type": "code",
   "execution_count": 20,
   "metadata": {},
   "outputs": [],
   "source": [
    "import pandas as pd\n",
    "import matplotlib.pyplot as plt\n",
    "from sklearn.feature_extraction.text import TfidfVectorizer\n",
    "from sklearn.model_selection import train_test_split\n",
    "from sklearn.feature_extraction.text import TfidfTransformer"
   ]
  },
  {
   "cell_type": "code",
   "execution_count": 16,
   "metadata": {},
   "outputs": [
    {
     "name": "stdout",
     "output_type": "stream",
     "text": [
      "<class 'pandas.core.frame.DataFrame'>\n",
      "RangeIndex: 215063 entries, 0 to 215062\n",
      "Data columns (total 10 columns):\n",
      " #   Column                Non-Null Count   Dtype  \n",
      "---  ------                --------------   -----  \n",
      " 0   Unnamed: 0            215063 non-null  int64  \n",
      " 1   ID                    215063 non-null  int64  \n",
      " 2   review                215063 non-null  object \n",
      " 3   cleanReview           215063 non-null  object \n",
      " 4   rating                215063 non-null  float64\n",
      " 5   ratingSentiment       215063 non-null  int64  \n",
      " 6   ratingSentimentLabel  215063 non-null  object \n",
      " 7   ReviewScore           215063 non-null  float64\n",
      " 8   vaderSentiment        215063 non-null  int64  \n",
      " 9   vaderSentimentLabel   215063 non-null  object \n",
      "dtypes: float64(2), int64(4), object(4)\n",
      "memory usage: 16.4+ MB\n"
     ]
    },
    {
     "data": {
      "text/html": [
       "<div>\n",
       "<style scoped>\n",
       "    .dataframe tbody tr th:only-of-type {\n",
       "        vertical-align: middle;\n",
       "    }\n",
       "\n",
       "    .dataframe tbody tr th {\n",
       "        vertical-align: top;\n",
       "    }\n",
       "\n",
       "    .dataframe thead th {\n",
       "        text-align: right;\n",
       "    }\n",
       "</style>\n",
       "<table border=\"1\" class=\"dataframe\">\n",
       "  <thead>\n",
       "    <tr style=\"text-align: right;\">\n",
       "      <th></th>\n",
       "      <th>Unnamed: 0</th>\n",
       "      <th>ID</th>\n",
       "      <th>review</th>\n",
       "      <th>cleanReview</th>\n",
       "      <th>rating</th>\n",
       "      <th>ratingSentiment</th>\n",
       "      <th>ratingSentimentLabel</th>\n",
       "      <th>ReviewScore</th>\n",
       "      <th>vaderSentiment</th>\n",
       "      <th>vaderSentimentLabel</th>\n",
       "    </tr>\n",
       "  </thead>\n",
       "  <tbody>\n",
       "    <tr>\n",
       "      <th>0</th>\n",
       "      <td>0</td>\n",
       "      <td>206461</td>\n",
       "      <td>\"It has no side effect, I take it in combinati...</td>\n",
       "      <td>\"It side effect, I take combination Bystolic 5...</td>\n",
       "      <td>9.0</td>\n",
       "      <td>2</td>\n",
       "      <td>positive</td>\n",
       "      <td>0.0000</td>\n",
       "      <td>0</td>\n",
       "      <td>neutral</td>\n",
       "    </tr>\n",
       "    <tr>\n",
       "      <th>1</th>\n",
       "      <td>1</td>\n",
       "      <td>95260</td>\n",
       "      <td>\"My son is halfway through his fourth week of ...</td>\n",
       "      <td>\"My son halfway fourth week Intuniv. We became...</td>\n",
       "      <td>8.0</td>\n",
       "      <td>2</td>\n",
       "      <td>positive</td>\n",
       "      <td>0.9070</td>\n",
       "      <td>2</td>\n",
       "      <td>positive</td>\n",
       "    </tr>\n",
       "    <tr>\n",
       "      <th>2</th>\n",
       "      <td>2</td>\n",
       "      <td>92703</td>\n",
       "      <td>\"I used to take another oral contraceptive, wh...</td>\n",
       "      <td>\"I used take another oral contraceptive, 21 pi...</td>\n",
       "      <td>5.0</td>\n",
       "      <td>0</td>\n",
       "      <td>neutral</td>\n",
       "      <td>0.7096</td>\n",
       "      <td>2</td>\n",
       "      <td>positive</td>\n",
       "    </tr>\n",
       "    <tr>\n",
       "      <th>3</th>\n",
       "      <td>3</td>\n",
       "      <td>138000</td>\n",
       "      <td>\"This is my first time using any form of birth...</td>\n",
       "      <td>\"This first time using form birth control. I&amp;#...</td>\n",
       "      <td>8.0</td>\n",
       "      <td>2</td>\n",
       "      <td>positive</td>\n",
       "      <td>0.7184</td>\n",
       "      <td>2</td>\n",
       "      <td>positive</td>\n",
       "    </tr>\n",
       "    <tr>\n",
       "      <th>4</th>\n",
       "      <td>4</td>\n",
       "      <td>35696</td>\n",
       "      <td>\"Suboxone has completely turned my life around...</td>\n",
       "      <td>\"Suboxone completely turned life around. I fee...</td>\n",
       "      <td>9.0</td>\n",
       "      <td>2</td>\n",
       "      <td>positive</td>\n",
       "      <td>0.9403</td>\n",
       "      <td>2</td>\n",
       "      <td>positive</td>\n",
       "    </tr>\n",
       "  </tbody>\n",
       "</table>\n",
       "</div>"
      ],
      "text/plain": [
       "   Unnamed: 0      ID                                             review  \\\n",
       "0           0  206461  \"It has no side effect, I take it in combinati...   \n",
       "1           1   95260  \"My son is halfway through his fourth week of ...   \n",
       "2           2   92703  \"I used to take another oral contraceptive, wh...   \n",
       "3           3  138000  \"This is my first time using any form of birth...   \n",
       "4           4   35696  \"Suboxone has completely turned my life around...   \n",
       "\n",
       "                                         cleanReview  rating  ratingSentiment  \\\n",
       "0  \"It side effect, I take combination Bystolic 5...     9.0                2   \n",
       "1  \"My son halfway fourth week Intuniv. We became...     8.0                2   \n",
       "2  \"I used take another oral contraceptive, 21 pi...     5.0                0   \n",
       "3  \"This first time using form birth control. I&#...     8.0                2   \n",
       "4  \"Suboxone completely turned life around. I fee...     9.0                2   \n",
       "\n",
       "  ratingSentimentLabel  ReviewScore  vaderSentiment vaderSentimentLabel  \n",
       "0             positive       0.0000               0             neutral  \n",
       "1             positive       0.9070               2            positive  \n",
       "2              neutral       0.7096               2            positive  \n",
       "3             positive       0.7184               2            positive  \n",
       "4             positive       0.9403               2            positive  "
      ]
     },
     "execution_count": 16,
     "metadata": {},
     "output_type": "execute_result"
    }
   ],
   "source": [
    "dru = pd.read_csv('newDrug.csv.gz')\n",
    "dru.info()\n",
    "dru.head()"
   ]
  },
  {
   "cell_type": "code",
   "execution_count": 17,
   "metadata": {},
   "outputs": [
    {
     "data": {
      "text/html": [
       "<div>\n",
       "<style scoped>\n",
       "    .dataframe tbody tr th:only-of-type {\n",
       "        vertical-align: middle;\n",
       "    }\n",
       "\n",
       "    .dataframe tbody tr th {\n",
       "        vertical-align: top;\n",
       "    }\n",
       "\n",
       "    .dataframe thead th {\n",
       "        text-align: right;\n",
       "    }\n",
       "</style>\n",
       "<table border=\"1\" class=\"dataframe\">\n",
       "  <thead>\n",
       "    <tr style=\"text-align: right;\">\n",
       "      <th></th>\n",
       "      <th>ID</th>\n",
       "      <th>review</th>\n",
       "      <th>cleanReview</th>\n",
       "      <th>rating</th>\n",
       "      <th>ratingSentiment</th>\n",
       "      <th>ratingSentimentLabel</th>\n",
       "      <th>ReviewScore</th>\n",
       "      <th>vaderSentiment</th>\n",
       "      <th>vaderSentimentLabel</th>\n",
       "    </tr>\n",
       "  </thead>\n",
       "  <tbody>\n",
       "    <tr>\n",
       "      <th>0</th>\n",
       "      <td>206461</td>\n",
       "      <td>\"It has no side effect, I take it in combinati...</td>\n",
       "      <td>\"It side effect, I take combination Bystolic 5...</td>\n",
       "      <td>9.0</td>\n",
       "      <td>2</td>\n",
       "      <td>positive</td>\n",
       "      <td>0.0000</td>\n",
       "      <td>0</td>\n",
       "      <td>neutral</td>\n",
       "    </tr>\n",
       "    <tr>\n",
       "      <th>1</th>\n",
       "      <td>95260</td>\n",
       "      <td>\"My son is halfway through his fourth week of ...</td>\n",
       "      <td>\"My son halfway fourth week Intuniv. We became...</td>\n",
       "      <td>8.0</td>\n",
       "      <td>2</td>\n",
       "      <td>positive</td>\n",
       "      <td>0.9070</td>\n",
       "      <td>2</td>\n",
       "      <td>positive</td>\n",
       "    </tr>\n",
       "    <tr>\n",
       "      <th>2</th>\n",
       "      <td>92703</td>\n",
       "      <td>\"I used to take another oral contraceptive, wh...</td>\n",
       "      <td>\"I used take another oral contraceptive, 21 pi...</td>\n",
       "      <td>5.0</td>\n",
       "      <td>0</td>\n",
       "      <td>neutral</td>\n",
       "      <td>0.7096</td>\n",
       "      <td>2</td>\n",
       "      <td>positive</td>\n",
       "    </tr>\n",
       "    <tr>\n",
       "      <th>3</th>\n",
       "      <td>138000</td>\n",
       "      <td>\"This is my first time using any form of birth...</td>\n",
       "      <td>\"This first time using form birth control. I&amp;#...</td>\n",
       "      <td>8.0</td>\n",
       "      <td>2</td>\n",
       "      <td>positive</td>\n",
       "      <td>0.7184</td>\n",
       "      <td>2</td>\n",
       "      <td>positive</td>\n",
       "    </tr>\n",
       "    <tr>\n",
       "      <th>4</th>\n",
       "      <td>35696</td>\n",
       "      <td>\"Suboxone has completely turned my life around...</td>\n",
       "      <td>\"Suboxone completely turned life around. I fee...</td>\n",
       "      <td>9.0</td>\n",
       "      <td>2</td>\n",
       "      <td>positive</td>\n",
       "      <td>0.9403</td>\n",
       "      <td>2</td>\n",
       "      <td>positive</td>\n",
       "    </tr>\n",
       "  </tbody>\n",
       "</table>\n",
       "</div>"
      ],
      "text/plain": [
       "       ID                                             review  \\\n",
       "0  206461  \"It has no side effect, I take it in combinati...   \n",
       "1   95260  \"My son is halfway through his fourth week of ...   \n",
       "2   92703  \"I used to take another oral contraceptive, wh...   \n",
       "3  138000  \"This is my first time using any form of birth...   \n",
       "4   35696  \"Suboxone has completely turned my life around...   \n",
       "\n",
       "                                         cleanReview  rating  ratingSentiment  \\\n",
       "0  \"It side effect, I take combination Bystolic 5...     9.0                2   \n",
       "1  \"My son halfway fourth week Intuniv. We became...     8.0                2   \n",
       "2  \"I used take another oral contraceptive, 21 pi...     5.0                0   \n",
       "3  \"This first time using form birth control. I&#...     8.0                2   \n",
       "4  \"Suboxone completely turned life around. I fee...     9.0                2   \n",
       "\n",
       "  ratingSentimentLabel  ReviewScore  vaderSentiment vaderSentimentLabel  \n",
       "0             positive       0.0000               0             neutral  \n",
       "1             positive       0.9070               2            positive  \n",
       "2              neutral       0.7096               2            positive  \n",
       "3             positive       0.7184               2            positive  \n",
       "4             positive       0.9403               2            positive  "
      ]
     },
     "execution_count": 17,
     "metadata": {},
     "output_type": "execute_result"
    }
   ],
   "source": [
    "dru = dru.drop(columns=dru.columns[0])\n",
    "dru.head()"
   ]
  },
  {
   "cell_type": "code",
   "execution_count": 18,
   "metadata": {},
   "outputs": [
    {
     "data": {
      "image/png": "[encoded data removed]",
      "text/plain": [
       "<Figure size 432x288 with 1 Axes>"
      ]
     },
     "metadata": {
      "needs_background": "light"
     },
     "output_type": "display_data"
    },
    {
     "data": {
      "image/png": "[encoded data removed]",
      "text/plain": [
       "<Figure size 432x288 with 1 Axes>"
      ]
     },
     "metadata": {
      "needs_background": "light"
     },
     "output_type": "display_data"
    }
   ],
   "source": [
    "dru.groupby('ratingSentimentLabel').count().plot.bar()\n",
    "plt.show()\n",
    "dru.groupby('vaderSentimentLabel').count().plot.bar()\n",
    "plt.show()"
   ]
  },
  {
   "cell_type": "code",
   "execution_count": 19,
   "metadata": {},
   "outputs": [
    {
     "data": {
      "text/plain": [
       "(215063, 1619394)"
      ]
     },
     "execution_count": 19,
     "metadata": {},
     "output_type": "execute_result"
    }
   ],
   "source": [
    "tfidf = TfidfVectorizer(stop_words='english',ngram_range=(1,2))\n",
    "features = tfidf.fit_transform(dru.cleanReview)\n",
    "labels   = dru.vaderSentiment\n",
    "features.shape"
   ]
  },
  {
   "cell_type": "code",
   "execution_count": 22,
   "metadata": {},
   "outputs": [],
   "source": [
    "x_train,x_test,y_train,y_test = train_test_split(dru['cleanReview'],dru['ratingSentimentLabel'],random_state=0)"
   ]
  },
  {
   "cell_type": "code",
   "execution_count": 32,
   "metadata": {},
   "outputs": [],
   "source": [
    "from sklearn.linear_model import LogisticRegression\n",
    "from sklearn.model_selection import cross_val_score\n",
    "\n",
    "Logistic=LogisticRegression(random_state=0,solver='lbfgs',max_iter=1500,multi_class='auto')\n",
    "model = [Logistic]\n",
    "CV = 5\n",
    "cv_dru = pd.DataFrame(index=range(CV * len(model)))\n",
    "entries = []\n",
    "for model in model:\n",
    "  model_name = model.__class__.__name__\n",
    "  accuracies = cross_val_score(model,features,labels,scoring='accuracy',cv=CV)\n",
    "  for fold_idx,accuracy in enumerate(accuracies):\n",
    "    entries.append((model_name,fold_idx,accuracy))\n",
    "cv_dru = pd.DataFrame(entries,columns=['model_name','fold_idx','accuracy'])\n",
    "\n",
    "cv_dru"
   ]
  }
 ],
 "metadata": {
  "interpreter": {
   "hash": "150854f2e74f24877b79e8f810308b39773d7b1b9f435895849d0c6a892acfe5"
  },
  "kernelspec": {
   "display_name": "Python 3.7.10 64-bit ('base2': conda)",
   "language": "python",
   "name": "python3"
  },
  "language_info": {
   "codemirror_mode": {
    "name": "ipython",
    "version": 3
   },
   "file_extension": ".py",
   "mimetype": "text/x-python",
   "name": "python",
   "nbconvert_exporter": "python",
   "pygments_lexer": "ipython3",
   "version": "3.7.10"
  },
  "orig_nbformat": 4
 },
 "nbformat": 4,
 "nbformat_minor": 2
}
