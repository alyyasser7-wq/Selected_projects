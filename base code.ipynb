{
 "cells": [
  {
   "cell_type": "code",
   "execution_count": 8,
   "metadata": {},
   "outputs": [],
   "source": [
    "import pandas as pd\n",
    "import csv , cv2\n",
    "import numpy as np\n",
    "import tensorflow, keras\n",
    "from keras.layers import Input, Conv2D, Activation, MaxPool2D,  Dense, Dropout, Flatten, BatchNormalization\n",
    "from keras.models import Sequential, Model\n",
    "from tensorflow.keras.utils import to_categorical\n",
    "import matplotlib\n",
    "import matplotlib.pyplot as plt \n",
    "from sklearn.metrics import accuracy_score, classification_report, confusion_matrix\n",
    "import itertools\n",
    "from sklearn.neural_network import MLPClassifier\n",
    "from sklearn.model_selection import train_test_split\n",
    "from sklearn.feature_extraction.text import TfidfVectorizer"
   ]
  },
  {
   "cell_type": "code",
   "execution_count": 9,
   "metadata": {},
   "outputs": [
    {
     "name": "stdout",
     "output_type": "stream",
     "text": [
      "Training length:  (161297, 7)\n",
      "Testing length: (53766, 7)\n"
     ]
    }
   ],
   "source": [
    "dru_train = pd.read_csv(r\"C:\\Users\\XTREME\\Desktop\\selected\\Selected_Projects\\drugsComTrain_raw.tsv\", sep = \"\\t\")\n",
    "dru_test = pd.read_csv(r\"C:\\Users\\XTREME\\Desktop\\selected\\Selected_Projects\\drugsComTest_raw.tsv\", sep = \"\\t\")\n",
    "#type(dru_train)\n",
    "len(dru_train)\n",
    "print('Training length: ',dru_train.shape)\n",
    "len(dru_test)\n",
    "print('Testing length:',dru_test.shape)"
   ]
  },
  {
   "cell_type": "code",
   "execution_count": 10,
   "metadata": {},
   "outputs": [
    {
     "data": {
      "text/plain": [
       "(215063, 7)"
      ]
     },
     "execution_count": 10,
     "metadata": {},
     "output_type": "execute_result"
    }
   ],
   "source": [
    "dru = pd.concat([dru_train,dru_test])\n",
    "dru.shape"
   ]
  },
  {
   "cell_type": "code",
   "execution_count": 11,
   "metadata": {},
   "outputs": [
    {
     "data": {
      "text/html": [
       "<div>\n",
       "<style scoped>\n",
       "    .dataframe tbody tr th:only-of-type {\n",
       "        vertical-align: middle;\n",
       "    }\n",
       "\n",
       "    .dataframe tbody tr th {\n",
       "        vertical-align: top;\n",
       "    }\n",
       "\n",
       "    .dataframe thead th {\n",
       "        text-align: right;\n",
       "    }\n",
       "</style>\n",
       "<table border=\"1\" class=\"dataframe\">\n",
       "  <thead>\n",
       "    <tr style=\"text-align: right;\">\n",
       "      <th></th>\n",
       "      <th>ID</th>\n",
       "      <th>drugName</th>\n",
       "      <th>condition</th>\n",
       "      <th>review</th>\n",
       "      <th>rating</th>\n",
       "      <th>date</th>\n",
       "      <th>usefulCount</th>\n",
       "    </tr>\n",
       "  </thead>\n",
       "  <tbody>\n",
       "    <tr>\n",
       "      <th>0</th>\n",
       "      <td>206461</td>\n",
       "      <td>Valsartan</td>\n",
       "      <td>Left Ventricular Dysfunction</td>\n",
       "      <td>\"It has no side effect, I take it in combinati...</td>\n",
       "      <td>9.0</td>\n",
       "      <td>May 20, 2012</td>\n",
       "      <td>27</td>\n",
       "    </tr>\n",
       "    <tr>\n",
       "      <th>1</th>\n",
       "      <td>95260</td>\n",
       "      <td>Guanfacine</td>\n",
       "      <td>ADHD</td>\n",
       "      <td>\"My son is halfway through his fourth week of ...</td>\n",
       "      <td>8.0</td>\n",
       "      <td>April 27, 2010</td>\n",
       "      <td>192</td>\n",
       "    </tr>\n",
       "    <tr>\n",
       "      <th>2</th>\n",
       "      <td>92703</td>\n",
       "      <td>Lybrel</td>\n",
       "      <td>Birth Control</td>\n",
       "      <td>\"I used to take another oral contraceptive, wh...</td>\n",
       "      <td>5.0</td>\n",
       "      <td>December 14, 2009</td>\n",
       "      <td>17</td>\n",
       "    </tr>\n",
       "    <tr>\n",
       "      <th>3</th>\n",
       "      <td>138000</td>\n",
       "      <td>Ortho Evra</td>\n",
       "      <td>Birth Control</td>\n",
       "      <td>\"This is my first time using any form of birth...</td>\n",
       "      <td>8.0</td>\n",
       "      <td>November 3, 2015</td>\n",
       "      <td>10</td>\n",
       "    </tr>\n",
       "    <tr>\n",
       "      <th>4</th>\n",
       "      <td>35696</td>\n",
       "      <td>Buprenorphine / naloxone</td>\n",
       "      <td>Opiate Dependence</td>\n",
       "      <td>\"Suboxone has completely turned my life around...</td>\n",
       "      <td>9.0</td>\n",
       "      <td>November 27, 2016</td>\n",
       "      <td>37</td>\n",
       "    </tr>\n",
       "  </tbody>\n",
       "</table>\n",
       "</div>"
      ],
      "text/plain": [
       "       ID                  drugName                     condition  \\\n",
       "0  206461                 Valsartan  Left Ventricular Dysfunction   \n",
       "1   95260                Guanfacine                          ADHD   \n",
       "2   92703                    Lybrel                 Birth Control   \n",
       "3  138000                Ortho Evra                 Birth Control   \n",
       "4   35696  Buprenorphine / naloxone             Opiate Dependence   \n",
       "\n",
       "                                              review  rating  \\\n",
       "0  \"It has no side effect, I take it in combinati...     9.0   \n",
       "1  \"My son is halfway through his fourth week of ...     8.0   \n",
       "2  \"I used to take another oral contraceptive, wh...     5.0   \n",
       "3  \"This is my first time using any form of birth...     8.0   \n",
       "4  \"Suboxone has completely turned my life around...     9.0   \n",
       "\n",
       "                date  usefulCount  \n",
       "0       May 20, 2012           27  \n",
       "1     April 27, 2010          192  \n",
       "2  December 14, 2009           17  \n",
       "3   November 3, 2015           10  \n",
       "4  November 27, 2016           37  "
      ]
     },
     "execution_count": 11,
     "metadata": {},
     "output_type": "execute_result"
    }
   ],
   "source": [
    "dru.head()"
   ]
  },
  {
   "cell_type": "code",
   "execution_count": 12,
   "metadata": {},
   "outputs": [
    {
     "data": {
      "text/html": [
       "<div>\n",
       "<style scoped>\n",
       "    .dataframe tbody tr th:only-of-type {\n",
       "        vertical-align: middle;\n",
       "    }\n",
       "\n",
       "    .dataframe tbody tr th {\n",
       "        vertical-align: top;\n",
       "    }\n",
       "\n",
       "    .dataframe thead th {\n",
       "        text-align: right;\n",
       "    }\n",
       "</style>\n",
       "<table border=\"1\" class=\"dataframe\">\n",
       "  <thead>\n",
       "    <tr style=\"text-align: right;\">\n",
       "      <th></th>\n",
       "      <th>ID</th>\n",
       "      <th>review</th>\n",
       "      <th>rating</th>\n",
       "    </tr>\n",
       "  </thead>\n",
       "  <tbody>\n",
       "    <tr>\n",
       "      <th>0</th>\n",
       "      <td>206461</td>\n",
       "      <td>\"It has no side effect, I take it in combinati...</td>\n",
       "      <td>9.0</td>\n",
       "    </tr>\n",
       "    <tr>\n",
       "      <th>1</th>\n",
       "      <td>95260</td>\n",
       "      <td>\"My son is halfway through his fourth week of ...</td>\n",
       "      <td>8.0</td>\n",
       "    </tr>\n",
       "    <tr>\n",
       "      <th>2</th>\n",
       "      <td>92703</td>\n",
       "      <td>\"I used to take another oral contraceptive, wh...</td>\n",
       "      <td>5.0</td>\n",
       "    </tr>\n",
       "    <tr>\n",
       "      <th>3</th>\n",
       "      <td>138000</td>\n",
       "      <td>\"This is my first time using any form of birth...</td>\n",
       "      <td>8.0</td>\n",
       "    </tr>\n",
       "    <tr>\n",
       "      <th>4</th>\n",
       "      <td>35696</td>\n",
       "      <td>\"Suboxone has completely turned my life around...</td>\n",
       "      <td>9.0</td>\n",
       "    </tr>\n",
       "  </tbody>\n",
       "</table>\n",
       "</div>"
      ],
      "text/plain": [
       "       ID                                             review  rating\n",
       "0  206461  \"It has no side effect, I take it in combinati...     9.0\n",
       "1   95260  \"My son is halfway through his fourth week of ...     8.0\n",
       "2   92703  \"I used to take another oral contraceptive, wh...     5.0\n",
       "3  138000  \"This is my first time using any form of birth...     8.0\n",
       "4   35696  \"Suboxone has completely turned my life around...     9.0"
      ]
     },
     "execution_count": 12,
     "metadata": {},
     "output_type": "execute_result"
    }
   ],
   "source": [
    "# dru['date'] = pd.to_datetime(dru['date'])\n",
    "# dru['date'].head()\n",
    "dru_train = dru[['ID', 'review','rating']].copy()\n",
    "dru_train.head()"
   ]
  },
  {
   "cell_type": "code",
   "execution_count": 13,
   "metadata": {},
   "outputs": [
    {
     "name": "stdout",
     "output_type": "stream",
     "text": [
      "<class 'pandas.core.frame.DataFrame'>\n",
      "Int64Index: 215063 entries, 0 to 53765\n",
      "Data columns (total 3 columns):\n",
      " #   Column  Non-Null Count   Dtype  \n",
      "---  ------  --------------   -----  \n",
      " 0   ID      215063 non-null  int64  \n",
      " 1   review  215063 non-null  object \n",
      " 2   rating  215063 non-null  float64\n",
      "dtypes: float64(1), int64(1), object(1)\n",
      "memory usage: 6.6+ MB\n"
     ]
    }
   ],
   "source": [
    "dru_train.info(null_counts= True)"
   ]
  },
  {
   "cell_type": "code",
   "execution_count": 14,
   "metadata": {},
   "outputs": [
    {
     "data": {
      "text/plain": [
       "215063"
      ]
     },
     "execution_count": 14,
     "metadata": {},
     "output_type": "execute_result"
    }
   ],
   "source": [
    "dru_train['ID'].unique()\n",
    "dru_train['ID'].count()\n",
    "dru_train['ID'].nunique()"
   ]
  },
  {
   "cell_type": "markdown",
   "metadata": {},
   "source": []
  },
  {
   "cell_type": "code",
   "execution_count": 15,
   "metadata": {},
   "outputs": [
    {
     "data": {
      "text/plain": [
       "1    \"My son is halfway through his fourth week of ...\n",
       "1    \"My son has Crohn&#039;s disease and has done ...\n",
       "Name: review, dtype: object"
      ]
     },
     "execution_count": 15,
     "metadata": {},
     "output_type": "execute_result"
    }
   ],
   "source": [
    "dru['review'][1]"
   ]
  },
  {
   "cell_type": "code",
   "execution_count": 16,
   "metadata": {},
   "outputs": [
    {
     "name": "stdout",
     "output_type": "stream",
     "text": [
      "Requirement already satisfied: vaderSentiment in c:\\users\\xtreme\\.conda\\envs\\base2\\lib\\site-packages (3.3.2)\n",
      "Requirement already satisfied: requests in c:\\users\\xtreme\\.conda\\envs\\base2\\lib\\site-packages (from vaderSentiment) (2.25.1)\n",
      "Requirement already satisfied: idna<3,>=2.5 in c:\\users\\xtreme\\.conda\\envs\\base2\\lib\\site-packages (from requests->vaderSentiment) (2.10)\n",
      "Requirement already satisfied: urllib3<1.27,>=1.21.1 in c:\\users\\xtreme\\.conda\\envs\\base2\\lib\\site-packages (from requests->vaderSentiment) (1.26.4)\n",
      "Requirement already satisfied: chardet<5,>=3.0.2 in c:\\users\\xtreme\\.conda\\envs\\base2\\lib\\site-packages (from requests->vaderSentiment) (4.0.0)\n",
      "Requirement already satisfied: certifi>=2017.4.17 in c:\\users\\xtreme\\.conda\\envs\\base2\\lib\\site-packages (from requests->vaderSentiment) (2021.10.8)\n"
     ]
    }
   ],
   "source": [
    "!pip install vaderSentiment"
   ]
  },
  {
   "cell_type": "code",
   "execution_count": 17,
   "metadata": {},
   "outputs": [
    {
     "name": "stderr",
     "output_type": "stream",
     "text": [
      "[nltk_data] Downloading package punkt to\n",
      "[nltk_data]     C:\\Users\\XTREME\\AppData\\Roaming\\nltk_data...\n",
      "[nltk_data]   Package punkt is already up-to-date!\n",
      "[nltk_data] Downloading package stopwords to\n",
      "[nltk_data]     C:\\Users\\XTREME\\AppData\\Roaming\\nltk_data...\n",
      "[nltk_data]   Package stopwords is already up-to-date!\n"
     ]
    },
    {
     "data": {
      "text/plain": [
       "True"
      ]
     },
     "execution_count": 17,
     "metadata": {},
     "output_type": "execute_result"
    }
   ],
   "source": [
    "import nltk\n",
    "nltk.download(['punkt','stopwords'])"
   ]
  },
  {
   "cell_type": "code",
   "execution_count": 18,
   "metadata": {},
   "outputs": [],
   "source": [
    "from nltk.corpus import stopwords\n",
    "stopwords = stopwords.words('english')"
   ]
  },
  {
   "cell_type": "code",
   "execution_count": 19,
   "metadata": {},
   "outputs": [
    {
     "data": {
      "text/html": [
       "<div>\n",
       "<style scoped>\n",
       "    .dataframe tbody tr th:only-of-type {\n",
       "        vertical-align: middle;\n",
       "    }\n",
       "\n",
       "    .dataframe tbody tr th {\n",
       "        vertical-align: top;\n",
       "    }\n",
       "\n",
       "    .dataframe thead th {\n",
       "        text-align: right;\n",
       "    }\n",
       "</style>\n",
       "<table border=\"1\" class=\"dataframe\">\n",
       "  <thead>\n",
       "    <tr style=\"text-align: right;\">\n",
       "      <th></th>\n",
       "      <th>ID</th>\n",
       "      <th>review</th>\n",
       "      <th>rating</th>\n",
       "    </tr>\n",
       "  </thead>\n",
       "  <tbody>\n",
       "    <tr>\n",
       "      <th>0</th>\n",
       "      <td>206461</td>\n",
       "      <td>\"It has no side effect, I take it in combinati...</td>\n",
       "      <td>9.0</td>\n",
       "    </tr>\n",
       "    <tr>\n",
       "      <th>1</th>\n",
       "      <td>95260</td>\n",
       "      <td>\"My son is halfway through his fourth week of ...</td>\n",
       "      <td>8.0</td>\n",
       "    </tr>\n",
       "    <tr>\n",
       "      <th>2</th>\n",
       "      <td>92703</td>\n",
       "      <td>\"I used to take another oral contraceptive, wh...</td>\n",
       "      <td>5.0</td>\n",
       "    </tr>\n",
       "    <tr>\n",
       "      <th>3</th>\n",
       "      <td>138000</td>\n",
       "      <td>\"This is my first time using any form of birth...</td>\n",
       "      <td>8.0</td>\n",
       "    </tr>\n",
       "    <tr>\n",
       "      <th>4</th>\n",
       "      <td>35696</td>\n",
       "      <td>\"Suboxone has completely turned my life around...</td>\n",
       "      <td>9.0</td>\n",
       "    </tr>\n",
       "  </tbody>\n",
       "</table>\n",
       "</div>"
      ],
      "text/plain": [
       "       ID                                             review  rating\n",
       "0  206461  \"It has no side effect, I take it in combinati...     9.0\n",
       "1   95260  \"My son is halfway through his fourth week of ...     8.0\n",
       "2   92703  \"I used to take another oral contraceptive, wh...     5.0\n",
       "3  138000  \"This is my first time using any form of birth...     8.0\n",
       "4   35696  \"Suboxone has completely turned my life around...     9.0"
      ]
     },
     "execution_count": 19,
     "metadata": {},
     "output_type": "execute_result"
    }
   ],
   "source": [
    "dru_train.head()"
   ]
  },
  {
   "cell_type": "code",
   "execution_count": 20,
   "metadata": {},
   "outputs": [
    {
     "data": {
      "text/html": [
       "<div>\n",
       "<style scoped>\n",
       "    .dataframe tbody tr th:only-of-type {\n",
       "        vertical-align: middle;\n",
       "    }\n",
       "\n",
       "    .dataframe tbody tr th {\n",
       "        vertical-align: top;\n",
       "    }\n",
       "\n",
       "    .dataframe thead th {\n",
       "        text-align: right;\n",
       "    }\n",
       "</style>\n",
       "<table border=\"1\" class=\"dataframe\">\n",
       "  <thead>\n",
       "    <tr style=\"text-align: right;\">\n",
       "      <th></th>\n",
       "      <th>ID</th>\n",
       "      <th>review</th>\n",
       "      <th>rating</th>\n",
       "      <th>cleanReview</th>\n",
       "    </tr>\n",
       "  </thead>\n",
       "  <tbody>\n",
       "    <tr>\n",
       "      <th>0</th>\n",
       "      <td>206461</td>\n",
       "      <td>\"It has no side effect, I take it in combinati...</td>\n",
       "      <td>9.0</td>\n",
       "      <td>\"It side effect, I take combination Bystolic 5...</td>\n",
       "    </tr>\n",
       "    <tr>\n",
       "      <th>1</th>\n",
       "      <td>95260</td>\n",
       "      <td>\"My son is halfway through his fourth week of ...</td>\n",
       "      <td>8.0</td>\n",
       "      <td>\"My son halfway fourth week Intuniv. We became...</td>\n",
       "    </tr>\n",
       "    <tr>\n",
       "      <th>2</th>\n",
       "      <td>92703</td>\n",
       "      <td>\"I used to take another oral contraceptive, wh...</td>\n",
       "      <td>5.0</td>\n",
       "      <td>\"I used take another oral contraceptive, 21 pi...</td>\n",
       "    </tr>\n",
       "    <tr>\n",
       "      <th>3</th>\n",
       "      <td>138000</td>\n",
       "      <td>\"This is my first time using any form of birth...</td>\n",
       "      <td>8.0</td>\n",
       "      <td>\"This first time using form birth control. I&amp;#...</td>\n",
       "    </tr>\n",
       "    <tr>\n",
       "      <th>4</th>\n",
       "      <td>35696</td>\n",
       "      <td>\"Suboxone has completely turned my life around...</td>\n",
       "      <td>9.0</td>\n",
       "      <td>\"Suboxone completely turned life around. I fee...</td>\n",
       "    </tr>\n",
       "  </tbody>\n",
       "</table>\n",
       "</div>"
      ],
      "text/plain": [
       "       ID                                             review  rating  \\\n",
       "0  206461  \"It has no side effect, I take it in combinati...     9.0   \n",
       "1   95260  \"My son is halfway through his fourth week of ...     8.0   \n",
       "2   92703  \"I used to take another oral contraceptive, wh...     5.0   \n",
       "3  138000  \"This is my first time using any form of birth...     8.0   \n",
       "4   35696  \"Suboxone has completely turned my life around...     9.0   \n",
       "\n",
       "                                         cleanReview  \n",
       "0  \"It side effect, I take combination Bystolic 5...  \n",
       "1  \"My son halfway fourth week Intuniv. We became...  \n",
       "2  \"I used take another oral contraceptive, 21 pi...  \n",
       "3  \"This first time using form birth control. I&#...  \n",
       "4  \"Suboxone completely turned life around. I fee...  "
      ]
     },
     "execution_count": 20,
     "metadata": {},
     "output_type": "execute_result"
    }
   ],
   "source": [
    " # remove stopwords from review\n",
    "dru_train['cleanReview'] = dru_train['review'].apply(lambda x: ' '.join([item for item in x.split() if item not in stopwords]))    \n",
    "dru_train.head()"
   ]
  },
  {
   "cell_type": "code",
   "execution_count": 21,
   "metadata": {},
   "outputs": [],
   "source": [
    "import vaderSentiment\n",
    "from vaderSentiment.vaderSentiment import SentimentIntensityAnalyzer\n",
    "analyzer = SentimentIntensityAnalyzer()"
   ]
  },
  {
   "cell_type": "code",
   "execution_count": 22,
   "metadata": {},
   "outputs": [
    {
     "data": {
      "text/html": [
       "<div>\n",
       "<style scoped>\n",
       "    .dataframe tbody tr th:only-of-type {\n",
       "        vertical-align: middle;\n",
       "    }\n",
       "\n",
       "    .dataframe tbody tr th {\n",
       "        vertical-align: top;\n",
       "    }\n",
       "\n",
       "    .dataframe thead th {\n",
       "        text-align: right;\n",
       "    }\n",
       "</style>\n",
       "<table border=\"1\" class=\"dataframe\">\n",
       "  <thead>\n",
       "    <tr style=\"text-align: right;\">\n",
       "      <th></th>\n",
       "      <th>ID</th>\n",
       "      <th>review</th>\n",
       "      <th>rating</th>\n",
       "      <th>cleanReview</th>\n",
       "      <th>ReviewScore</th>\n",
       "    </tr>\n",
       "  </thead>\n",
       "  <tbody>\n",
       "    <tr>\n",
       "      <th>0</th>\n",
       "      <td>206461</td>\n",
       "      <td>\"It has no side effect, I take it in combinati...</td>\n",
       "      <td>9.0</td>\n",
       "      <td>\"It side effect, I take combination Bystolic 5...</td>\n",
       "      <td>0.0000</td>\n",
       "    </tr>\n",
       "    <tr>\n",
       "      <th>1</th>\n",
       "      <td>95260</td>\n",
       "      <td>\"My son is halfway through his fourth week of ...</td>\n",
       "      <td>8.0</td>\n",
       "      <td>\"My son halfway fourth week Intuniv. We became...</td>\n",
       "      <td>0.9070</td>\n",
       "    </tr>\n",
       "    <tr>\n",
       "      <th>2</th>\n",
       "      <td>92703</td>\n",
       "      <td>\"I used to take another oral contraceptive, wh...</td>\n",
       "      <td>5.0</td>\n",
       "      <td>\"I used take another oral contraceptive, 21 pi...</td>\n",
       "      <td>0.7096</td>\n",
       "    </tr>\n",
       "    <tr>\n",
       "      <th>3</th>\n",
       "      <td>138000</td>\n",
       "      <td>\"This is my first time using any form of birth...</td>\n",
       "      <td>8.0</td>\n",
       "      <td>\"This first time using form birth control. I&amp;#...</td>\n",
       "      <td>0.7184</td>\n",
       "    </tr>\n",
       "    <tr>\n",
       "      <th>4</th>\n",
       "      <td>35696</td>\n",
       "      <td>\"Suboxone has completely turned my life around...</td>\n",
       "      <td>9.0</td>\n",
       "      <td>\"Suboxone completely turned life around. I fee...</td>\n",
       "      <td>0.9403</td>\n",
       "    </tr>\n",
       "  </tbody>\n",
       "</table>\n",
       "</div>"
      ],
      "text/plain": [
       "       ID                                             review  rating  \\\n",
       "0  206461  \"It has no side effect, I take it in combinati...     9.0   \n",
       "1   95260  \"My son is halfway through his fourth week of ...     8.0   \n",
       "2   92703  \"I used to take another oral contraceptive, wh...     5.0   \n",
       "3  138000  \"This is my first time using any form of birth...     8.0   \n",
       "4   35696  \"Suboxone has completely turned my life around...     9.0   \n",
       "\n",
       "                                         cleanReview  ReviewScore  \n",
       "0  \"It side effect, I take combination Bystolic 5...       0.0000  \n",
       "1  \"My son halfway fourth week Intuniv. We became...       0.9070  \n",
       "2  \"I used take another oral contraceptive, 21 pi...       0.7096  \n",
       "3  \"This first time using form birth control. I&#...       0.7184  \n",
       "4  \"Suboxone completely turned life around. I fee...       0.9403  "
      ]
     },
     "execution_count": 22,
     "metadata": {},
     "output_type": "execute_result"
    }
   ],
   "source": [
    "dru_train['ReviewScore'] = dru_train['cleanReview'].apply(lambda x: analyzer.polarity_scores(x)['compound'])\n",
    "dru_train.head()"
   ]
  },
  {
   "cell_type": "code",
   "execution_count": 24,
   "metadata": {},
   "outputs": [
    {
     "data": {
      "text/plain": [
       "(106198, 9035, 99830)"
      ]
     },
     "execution_count": 24,
     "metadata": {},
     "output_type": "execute_result"
    }
   ],
   "source": [
    "positive_num = len(dru_train[dru_train['ReviewScore'] >=0.05])\n",
    "neutral_num = len(dru_train[(dru_train['ReviewScore'] >-0.05) & (dru_train['ReviewScore']<0.05)])\n",
    "negative_num = len(dru_train[dru_train['ReviewScore']<=-0.05])\n",
    "\n",
    "positive_num,neutral_num,negative_num"
   ]
  },
  {
   "cell_type": "code",
   "execution_count": 25,
   "metadata": {},
   "outputs": [
    {
     "data": {
      "text/plain": [
       "215063"
      ]
     },
     "execution_count": 25,
     "metadata": {},
     "output_type": "execute_result"
    }
   ],
   "source": [
    "dru_train['vaderSentiment']= dru_train['ReviewScore'].map(lambda x:int(2) if x>=0.05 else int(1) if x<=-0.05 else int(0))\n",
    "dru_train['vaderSentiment'].value_counts()\n",
    "\n",
    "Total_vaderSentiment = positive_num + neutral_num + negative_num\n",
    "Total_vaderSentiment"
   ]
  },
  {
   "cell_type": "code",
   "execution_count": 27,
   "metadata": {},
   "outputs": [
    {
     "data": {
      "text/html": [
       "<div>\n",
       "<style scoped>\n",
       "    .dataframe tbody tr th:only-of-type {\n",
       "        vertical-align: middle;\n",
       "    }\n",
       "\n",
       "    .dataframe tbody tr th {\n",
       "        vertical-align: top;\n",
       "    }\n",
       "\n",
       "    .dataframe thead th {\n",
       "        text-align: right;\n",
       "    }\n",
       "</style>\n",
       "<table border=\"1\" class=\"dataframe\">\n",
       "  <thead>\n",
       "    <tr style=\"text-align: right;\">\n",
       "      <th></th>\n",
       "      <th>ID</th>\n",
       "      <th>review</th>\n",
       "      <th>rating</th>\n",
       "      <th>cleanReview</th>\n",
       "      <th>ReviewScore</th>\n",
       "      <th>vaderSentiment</th>\n",
       "      <th>vaderSentimentLabel</th>\n",
       "    </tr>\n",
       "  </thead>\n",
       "  <tbody>\n",
       "    <tr>\n",
       "      <th>0</th>\n",
       "      <td>206461</td>\n",
       "      <td>\"It has no side effect, I take it in combinati...</td>\n",
       "      <td>9.0</td>\n",
       "      <td>\"It side effect, I take combination Bystolic 5...</td>\n",
       "      <td>0.0000</td>\n",
       "      <td>0</td>\n",
       "      <td>neutral</td>\n",
       "    </tr>\n",
       "    <tr>\n",
       "      <th>1</th>\n",
       "      <td>95260</td>\n",
       "      <td>\"My son is halfway through his fourth week of ...</td>\n",
       "      <td>8.0</td>\n",
       "      <td>\"My son halfway fourth week Intuniv. We became...</td>\n",
       "      <td>0.9070</td>\n",
       "      <td>2</td>\n",
       "      <td>positive</td>\n",
       "    </tr>\n",
       "    <tr>\n",
       "      <th>2</th>\n",
       "      <td>92703</td>\n",
       "      <td>\"I used to take another oral contraceptive, wh...</td>\n",
       "      <td>5.0</td>\n",
       "      <td>\"I used take another oral contraceptive, 21 pi...</td>\n",
       "      <td>0.7096</td>\n",
       "      <td>2</td>\n",
       "      <td>positive</td>\n",
       "    </tr>\n",
       "    <tr>\n",
       "      <th>3</th>\n",
       "      <td>138000</td>\n",
       "      <td>\"This is my first time using any form of birth...</td>\n",
       "      <td>8.0</td>\n",
       "      <td>\"This first time using form birth control. I&amp;#...</td>\n",
       "      <td>0.7184</td>\n",
       "      <td>2</td>\n",
       "      <td>positive</td>\n",
       "    </tr>\n",
       "    <tr>\n",
       "      <th>4</th>\n",
       "      <td>35696</td>\n",
       "      <td>\"Suboxone has completely turned my life around...</td>\n",
       "      <td>9.0</td>\n",
       "      <td>\"Suboxone completely turned life around. I fee...</td>\n",
       "      <td>0.9403</td>\n",
       "      <td>2</td>\n",
       "      <td>positive</td>\n",
       "    </tr>\n",
       "  </tbody>\n",
       "</table>\n",
       "</div>"
      ],
      "text/plain": [
       "       ID                                             review  rating  \\\n",
       "0  206461  \"It has no side effect, I take it in combinati...     9.0   \n",
       "1   95260  \"My son is halfway through his fourth week of ...     8.0   \n",
       "2   92703  \"I used to take another oral contraceptive, wh...     5.0   \n",
       "3  138000  \"This is my first time using any form of birth...     8.0   \n",
       "4   35696  \"Suboxone has completely turned my life around...     9.0   \n",
       "\n",
       "                                         cleanReview  ReviewScore  \\\n",
       "0  \"It side effect, I take combination Bystolic 5...       0.0000   \n",
       "1  \"My son halfway fourth week Intuniv. We became...       0.9070   \n",
       "2  \"I used take another oral contraceptive, 21 pi...       0.7096   \n",
       "3  \"This first time using form birth control. I&#...       0.7184   \n",
       "4  \"Suboxone completely turned life around. I fee...       0.9403   \n",
       "\n",
       "   vaderSentiment vaderSentimentLabel  \n",
       "0               0             neutral  \n",
       "1               2            positive  \n",
       "2               2            positive  \n",
       "3               2            positive  \n",
       "4               2            positive  "
      ]
     },
     "execution_count": 27,
     "metadata": {},
     "output_type": "execute_result"
    }
   ],
   "source": [
    "dru_train.loc[dru_train['ReviewScore'] >=0.05,\"vaderSentimentLabel\"] =\"positive\"\n",
    "dru_train.loc[(dru_train['ReviewScore'] >-0.05) & (dru_train['ReviewScore']<0.05),\"vaderSentimentLabel\"]= \"neutral\"\n",
    "dru_train.loc[dru_train['ReviewScore']<=-0.05,\"vaderSentimentLabel\"] = \"negative\"\n",
    "dru_train.shape\n",
    "dru_train.head()"
   ]
  },
  {
   "cell_type": "code",
   "execution_count": 28,
   "metadata": {},
   "outputs": [
    {
     "data": {
      "text/plain": [
       "215063"
      ]
     },
     "execution_count": 28,
     "metadata": {},
     "output_type": "execute_result"
    }
   ],
   "source": [
    "positive_rating = len(dru_train[dru_train['rating'] >=7.0])\n",
    "neutral_rating = len(dru_train[(dru_train['rating'] >=4) & (dru_train['rating']<7)])\n",
    "negative_rating = len(dru_train[dru_train['rating']<=3])\n",
    "positive_rating,neutral_rating,negative_rating\n",
    "\n",
    "Total_rating = positive_rating+neutral_rating+negative_rating\n",
    "Total_rating\n"
   ]
  },
  {
   "cell_type": "code",
   "execution_count": 29,
   "metadata": {},
   "outputs": [
    {
     "data": {
      "text/html": [
       "<div>\n",
       "<style scoped>\n",
       "    .dataframe tbody tr th:only-of-type {\n",
       "        vertical-align: middle;\n",
       "    }\n",
       "\n",
       "    .dataframe tbody tr th {\n",
       "        vertical-align: top;\n",
       "    }\n",
       "\n",
       "    .dataframe thead th {\n",
       "        text-align: right;\n",
       "    }\n",
       "</style>\n",
       "<table border=\"1\" class=\"dataframe\">\n",
       "  <thead>\n",
       "    <tr style=\"text-align: right;\">\n",
       "      <th></th>\n",
       "      <th>ID</th>\n",
       "      <th>review</th>\n",
       "      <th>rating</th>\n",
       "      <th>cleanReview</th>\n",
       "      <th>ReviewScore</th>\n",
       "      <th>vaderSentiment</th>\n",
       "      <th>vaderSentimentLabel</th>\n",
       "      <th>ratingSentiment</th>\n",
       "    </tr>\n",
       "  </thead>\n",
       "  <tbody>\n",
       "    <tr>\n",
       "      <th>0</th>\n",
       "      <td>206461</td>\n",
       "      <td>\"It has no side effect, I take it in combinati...</td>\n",
       "      <td>9.0</td>\n",
       "      <td>\"It side effect, I take combination Bystolic 5...</td>\n",
       "      <td>0.0000</td>\n",
       "      <td>0</td>\n",
       "      <td>neutral</td>\n",
       "      <td>2</td>\n",
       "    </tr>\n",
       "    <tr>\n",
       "      <th>1</th>\n",
       "      <td>95260</td>\n",
       "      <td>\"My son is halfway through his fourth week of ...</td>\n",
       "      <td>8.0</td>\n",
       "      <td>\"My son halfway fourth week Intuniv. We became...</td>\n",
       "      <td>0.9070</td>\n",
       "      <td>2</td>\n",
       "      <td>positive</td>\n",
       "      <td>2</td>\n",
       "    </tr>\n",
       "    <tr>\n",
       "      <th>2</th>\n",
       "      <td>92703</td>\n",
       "      <td>\"I used to take another oral contraceptive, wh...</td>\n",
       "      <td>5.0</td>\n",
       "      <td>\"I used take another oral contraceptive, 21 pi...</td>\n",
       "      <td>0.7096</td>\n",
       "      <td>2</td>\n",
       "      <td>positive</td>\n",
       "      <td>0</td>\n",
       "    </tr>\n",
       "    <tr>\n",
       "      <th>3</th>\n",
       "      <td>138000</td>\n",
       "      <td>\"This is my first time using any form of birth...</td>\n",
       "      <td>8.0</td>\n",
       "      <td>\"This first time using form birth control. I&amp;#...</td>\n",
       "      <td>0.7184</td>\n",
       "      <td>2</td>\n",
       "      <td>positive</td>\n",
       "      <td>2</td>\n",
       "    </tr>\n",
       "    <tr>\n",
       "      <th>4</th>\n",
       "      <td>35696</td>\n",
       "      <td>\"Suboxone has completely turned my life around...</td>\n",
       "      <td>9.0</td>\n",
       "      <td>\"Suboxone completely turned life around. I fee...</td>\n",
       "      <td>0.9403</td>\n",
       "      <td>2</td>\n",
       "      <td>positive</td>\n",
       "      <td>2</td>\n",
       "    </tr>\n",
       "  </tbody>\n",
       "</table>\n",
       "</div>"
      ],
      "text/plain": [
       "       ID                                             review  rating  \\\n",
       "0  206461  \"It has no side effect, I take it in combinati...     9.0   \n",
       "1   95260  \"My son is halfway through his fourth week of ...     8.0   \n",
       "2   92703  \"I used to take another oral contraceptive, wh...     5.0   \n",
       "3  138000  \"This is my first time using any form of birth...     8.0   \n",
       "4   35696  \"Suboxone has completely turned my life around...     9.0   \n",
       "\n",
       "                                         cleanReview  ReviewScore  \\\n",
       "0  \"It side effect, I take combination Bystolic 5...       0.0000   \n",
       "1  \"My son halfway fourth week Intuniv. We became...       0.9070   \n",
       "2  \"I used take another oral contraceptive, 21 pi...       0.7096   \n",
       "3  \"This first time using form birth control. I&#...       0.7184   \n",
       "4  \"Suboxone completely turned life around. I fee...       0.9403   \n",
       "\n",
       "   vaderSentiment vaderSentimentLabel  ratingSentiment  \n",
       "0               0             neutral                2  \n",
       "1               2            positive                2  \n",
       "2               2            positive                0  \n",
       "3               2            positive                2  \n",
       "4               2            positive                2  "
      ]
     },
     "execution_count": 29,
     "metadata": {},
     "output_type": "execute_result"
    }
   ],
   "source": [
    "dru_train['ratingSentiment']= dru_train['rating'].map(lambda x:int(2) if x>=7 else int(1) if x<=3 else int(0))\n",
    "dru_train['ratingSentiment'].value_counts()\n",
    "\n",
    "dru_train.head()"
   ]
  },
  {
   "cell_type": "code",
   "execution_count": 30,
   "metadata": {},
   "outputs": [
    {
     "data": {
      "text/html": [
       "<div>\n",
       "<style scoped>\n",
       "    .dataframe tbody tr th:only-of-type {\n",
       "        vertical-align: middle;\n",
       "    }\n",
       "\n",
       "    .dataframe tbody tr th {\n",
       "        vertical-align: top;\n",
       "    }\n",
       "\n",
       "    .dataframe thead th {\n",
       "        text-align: right;\n",
       "    }\n",
       "</style>\n",
       "<table border=\"1\" class=\"dataframe\">\n",
       "  <thead>\n",
       "    <tr style=\"text-align: right;\">\n",
       "      <th></th>\n",
       "      <th>ID</th>\n",
       "      <th>review</th>\n",
       "      <th>rating</th>\n",
       "      <th>cleanReview</th>\n",
       "      <th>ReviewScore</th>\n",
       "      <th>vaderSentiment</th>\n",
       "      <th>vaderSentimentLabel</th>\n",
       "      <th>ratingSentiment</th>\n",
       "      <th>ratingSentimentLabel</th>\n",
       "    </tr>\n",
       "  </thead>\n",
       "  <tbody>\n",
       "    <tr>\n",
       "      <th>0</th>\n",
       "      <td>206461</td>\n",
       "      <td>\"It has no side effect, I take it in combinati...</td>\n",
       "      <td>9.0</td>\n",
       "      <td>\"It side effect, I take combination Bystolic 5...</td>\n",
       "      <td>0.0000</td>\n",
       "      <td>0</td>\n",
       "      <td>neutral</td>\n",
       "      <td>2</td>\n",
       "      <td>positive</td>\n",
       "    </tr>\n",
       "    <tr>\n",
       "      <th>1</th>\n",
       "      <td>95260</td>\n",
       "      <td>\"My son is halfway through his fourth week of ...</td>\n",
       "      <td>8.0</td>\n",
       "      <td>\"My son halfway fourth week Intuniv. We became...</td>\n",
       "      <td>0.9070</td>\n",
       "      <td>2</td>\n",
       "      <td>positive</td>\n",
       "      <td>2</td>\n",
       "      <td>positive</td>\n",
       "    </tr>\n",
       "    <tr>\n",
       "      <th>2</th>\n",
       "      <td>92703</td>\n",
       "      <td>\"I used to take another oral contraceptive, wh...</td>\n",
       "      <td>5.0</td>\n",
       "      <td>\"I used take another oral contraceptive, 21 pi...</td>\n",
       "      <td>0.7096</td>\n",
       "      <td>2</td>\n",
       "      <td>positive</td>\n",
       "      <td>0</td>\n",
       "      <td>neutral</td>\n",
       "    </tr>\n",
       "    <tr>\n",
       "      <th>3</th>\n",
       "      <td>138000</td>\n",
       "      <td>\"This is my first time using any form of birth...</td>\n",
       "      <td>8.0</td>\n",
       "      <td>\"This first time using form birth control. I&amp;#...</td>\n",
       "      <td>0.7184</td>\n",
       "      <td>2</td>\n",
       "      <td>positive</td>\n",
       "      <td>2</td>\n",
       "      <td>positive</td>\n",
       "    </tr>\n",
       "    <tr>\n",
       "      <th>4</th>\n",
       "      <td>35696</td>\n",
       "      <td>\"Suboxone has completely turned my life around...</td>\n",
       "      <td>9.0</td>\n",
       "      <td>\"Suboxone completely turned life around. I fee...</td>\n",
       "      <td>0.9403</td>\n",
       "      <td>2</td>\n",
       "      <td>positive</td>\n",
       "      <td>2</td>\n",
       "      <td>positive</td>\n",
       "    </tr>\n",
       "  </tbody>\n",
       "</table>\n",
       "</div>"
      ],
      "text/plain": [
       "       ID                                             review  rating  \\\n",
       "0  206461  \"It has no side effect, I take it in combinati...     9.0   \n",
       "1   95260  \"My son is halfway through his fourth week of ...     8.0   \n",
       "2   92703  \"I used to take another oral contraceptive, wh...     5.0   \n",
       "3  138000  \"This is my first time using any form of birth...     8.0   \n",
       "4   35696  \"Suboxone has completely turned my life around...     9.0   \n",
       "\n",
       "                                         cleanReview  ReviewScore  \\\n",
       "0  \"It side effect, I take combination Bystolic 5...       0.0000   \n",
       "1  \"My son halfway fourth week Intuniv. We became...       0.9070   \n",
       "2  \"I used take another oral contraceptive, 21 pi...       0.7096   \n",
       "3  \"This first time using form birth control. I&#...       0.7184   \n",
       "4  \"Suboxone completely turned life around. I fee...       0.9403   \n",
       "\n",
       "   vaderSentiment vaderSentimentLabel  ratingSentiment ratingSentimentLabel  \n",
       "0               0             neutral                2             positive  \n",
       "1               2            positive                2             positive  \n",
       "2               2            positive                0              neutral  \n",
       "3               2            positive                2             positive  \n",
       "4               2            positive                2             positive  "
      ]
     },
     "execution_count": 30,
     "metadata": {},
     "output_type": "execute_result"
    }
   ],
   "source": [
    "dru_train.loc[dru_train['rating'] >=7.0,\"ratingSentimentLabel\"] =\"positive\"\n",
    "dru_train.loc[(dru_train['rating'] >=4.0) & (dru_train['rating']<7.0),\"ratingSentimentLabel\"]= \"neutral\"\n",
    "dru_train.loc[dru_train['rating']<=3.0,\"ratingSentimentLabel\"] = \"negative\"\n",
    "\n",
    "dru_train.head()"
   ]
  },
  {
   "cell_type": "code",
   "execution_count": 31,
   "metadata": {},
   "outputs": [
    {
     "data": {
      "text/html": [
       "<div>\n",
       "<style scoped>\n",
       "    .dataframe tbody tr th:only-of-type {\n",
       "        vertical-align: middle;\n",
       "    }\n",
       "\n",
       "    .dataframe tbody tr th {\n",
       "        vertical-align: top;\n",
       "    }\n",
       "\n",
       "    .dataframe thead th {\n",
       "        text-align: right;\n",
       "    }\n",
       "</style>\n",
       "<table border=\"1\" class=\"dataframe\">\n",
       "  <thead>\n",
       "    <tr style=\"text-align: right;\">\n",
       "      <th></th>\n",
       "      <th>ID</th>\n",
       "      <th>review</th>\n",
       "      <th>cleanReview</th>\n",
       "      <th>rating</th>\n",
       "      <th>ratingSentiment</th>\n",
       "      <th>ratingSentimentLabel</th>\n",
       "      <th>ReviewScore</th>\n",
       "      <th>vaderSentiment</th>\n",
       "      <th>vaderSentimentLabel</th>\n",
       "    </tr>\n",
       "  </thead>\n",
       "  <tbody>\n",
       "    <tr>\n",
       "      <th>0</th>\n",
       "      <td>206461</td>\n",
       "      <td>\"It has no side effect, I take it in combinati...</td>\n",
       "      <td>\"It side effect, I take combination Bystolic 5...</td>\n",
       "      <td>9.0</td>\n",
       "      <td>2</td>\n",
       "      <td>positive</td>\n",
       "      <td>0.0000</td>\n",
       "      <td>0</td>\n",
       "      <td>neutral</td>\n",
       "    </tr>\n",
       "    <tr>\n",
       "      <th>1</th>\n",
       "      <td>95260</td>\n",
       "      <td>\"My son is halfway through his fourth week of ...</td>\n",
       "      <td>\"My son halfway fourth week Intuniv. We became...</td>\n",
       "      <td>8.0</td>\n",
       "      <td>2</td>\n",
       "      <td>positive</td>\n",
       "      <td>0.9070</td>\n",
       "      <td>2</td>\n",
       "      <td>positive</td>\n",
       "    </tr>\n",
       "    <tr>\n",
       "      <th>2</th>\n",
       "      <td>92703</td>\n",
       "      <td>\"I used to take another oral contraceptive, wh...</td>\n",
       "      <td>\"I used take another oral contraceptive, 21 pi...</td>\n",
       "      <td>5.0</td>\n",
       "      <td>0</td>\n",
       "      <td>neutral</td>\n",
       "      <td>0.7096</td>\n",
       "      <td>2</td>\n",
       "      <td>positive</td>\n",
       "    </tr>\n",
       "    <tr>\n",
       "      <th>3</th>\n",
       "      <td>138000</td>\n",
       "      <td>\"This is my first time using any form of birth...</td>\n",
       "      <td>\"This first time using form birth control. I&amp;#...</td>\n",
       "      <td>8.0</td>\n",
       "      <td>2</td>\n",
       "      <td>positive</td>\n",
       "      <td>0.7184</td>\n",
       "      <td>2</td>\n",
       "      <td>positive</td>\n",
       "    </tr>\n",
       "    <tr>\n",
       "      <th>4</th>\n",
       "      <td>35696</td>\n",
       "      <td>\"Suboxone has completely turned my life around...</td>\n",
       "      <td>\"Suboxone completely turned life around. I fee...</td>\n",
       "      <td>9.0</td>\n",
       "      <td>2</td>\n",
       "      <td>positive</td>\n",
       "      <td>0.9403</td>\n",
       "      <td>2</td>\n",
       "      <td>positive</td>\n",
       "    </tr>\n",
       "  </tbody>\n",
       "</table>\n",
       "</div>"
      ],
      "text/plain": [
       "       ID                                             review  \\\n",
       "0  206461  \"It has no side effect, I take it in combinati...   \n",
       "1   95260  \"My son is halfway through his fourth week of ...   \n",
       "2   92703  \"I used to take another oral contraceptive, wh...   \n",
       "3  138000  \"This is my first time using any form of birth...   \n",
       "4   35696  \"Suboxone has completely turned my life around...   \n",
       "\n",
       "                                         cleanReview  rating  ratingSentiment  \\\n",
       "0  \"It side effect, I take combination Bystolic 5...     9.0                2   \n",
       "1  \"My son halfway fourth week Intuniv. We became...     8.0                2   \n",
       "2  \"I used take another oral contraceptive, 21 pi...     5.0                0   \n",
       "3  \"This first time using form birth control. I&#...     8.0                2   \n",
       "4  \"Suboxone completely turned life around. I fee...     9.0                2   \n",
       "\n",
       "  ratingSentimentLabel  ReviewScore  vaderSentiment vaderSentimentLabel  \n",
       "0             positive       0.0000               0             neutral  \n",
       "1             positive       0.9070               2            positive  \n",
       "2              neutral       0.7096               2            positive  \n",
       "3             positive       0.7184               2            positive  \n",
       "4             positive       0.9403               2            positive  "
      ]
     },
     "execution_count": 31,
     "metadata": {},
     "output_type": "execute_result"
    }
   ],
   "source": [
    "dru_train = dru_train[['ID','review','cleanReview','rating','ratingSentiment','ratingSentimentLabel','ReviewScore','vaderSentiment','vaderSentimentLabel']]\n",
    "dru_train.head()"
   ]
  },
  {
   "cell_type": "code",
   "execution_count": 32,
   "metadata": {},
   "outputs": [
    {
     "data": {
      "text/plain": [
       "181826795"
      ]
     },
     "execution_count": 32,
     "metadata": {},
     "output_type": "execute_result"
    }
   ],
   "source": [
    "dru_train.to_csv('newDrug.csv')    # To save preprocessed dataset to csv\n",
    "dru_train.head(50)\n",
    "import os\n",
    "os.stat('newDrug.csv').st_size         # Check size of csv file About 181MB\n"
   ]
  },
  {
   "cell_type": "code",
   "execution_count": 33,
   "metadata": {},
   "outputs": [
    {
     "name": "stdout",
     "output_type": "stream",
     "text": [
      "<class 'pandas.core.frame.DataFrame'>\n",
      "Int64Index: 215063 entries, 0 to 53765\n",
      "Data columns (total 9 columns):\n",
      " #   Column                Non-Null Count   Dtype  \n",
      "---  ------                --------------   -----  \n",
      " 0   ID                    215063 non-null  int64  \n",
      " 1   review                215063 non-null  object \n",
      " 2   cleanReview           215063 non-null  object \n",
      " 3   rating                215063 non-null  float64\n",
      " 4   ratingSentiment       215063 non-null  int64  \n",
      " 5   ratingSentimentLabel  215063 non-null  object \n",
      " 6   ReviewScore           215063 non-null  float64\n",
      " 7   vaderSentiment        215063 non-null  int64  \n",
      " 8   vaderSentimentLabel   215063 non-null  object \n",
      "dtypes: float64(2), int64(3), object(4)\n",
      "memory usage: 20.4+ MB\n"
     ]
    }
   ],
   "source": [
    "dru_train.info()"
   ]
  },
  {
   "cell_type": "code",
   "execution_count": 34,
   "metadata": {},
   "outputs": [
    {
     "data": {
      "text/plain": [
       "54014518"
      ]
     },
     "execution_count": 34,
     "metadata": {},
     "output_type": "execute_result"
    }
   ],
   "source": [
    "dru_train.to_csv('newDrug.csv.gz',compression='gzip')\n",
    "os.stat('newDrug.csv.gz').st_size"
   ]
  },
  {
   "cell_type": "code",
   "execution_count": 35,
   "metadata": {},
   "outputs": [
    {
     "data": {
      "text/html": [
       "<div>\n",
       "<style scoped>\n",
       "    .dataframe tbody tr th:only-of-type {\n",
       "        vertical-align: middle;\n",
       "    }\n",
       "\n",
       "    .dataframe tbody tr th {\n",
       "        vertical-align: top;\n",
       "    }\n",
       "\n",
       "    .dataframe thead th {\n",
       "        text-align: right;\n",
       "    }\n",
       "</style>\n",
       "<table border=\"1\" class=\"dataframe\">\n",
       "  <thead>\n",
       "    <tr style=\"text-align: right;\">\n",
       "      <th></th>\n",
       "      <th>ID</th>\n",
       "      <th>review</th>\n",
       "      <th>cleanReview</th>\n",
       "      <th>rating</th>\n",
       "      <th>ratingSentiment</th>\n",
       "      <th>ratingSentimentLabel</th>\n",
       "      <th>ReviewScore</th>\n",
       "      <th>vaderSentiment</th>\n",
       "      <th>vaderSentimentLabel</th>\n",
       "    </tr>\n",
       "  </thead>\n",
       "  <tbody>\n",
       "    <tr>\n",
       "      <th>0</th>\n",
       "      <td>206461</td>\n",
       "      <td>\"It has no side effect, I take it in combinati...</td>\n",
       "      <td>\"It side effect, I take combination Bystolic 5...</td>\n",
       "      <td>9.0</td>\n",
       "      <td>2</td>\n",
       "      <td>positive</td>\n",
       "      <td>0.0000</td>\n",
       "      <td>0</td>\n",
       "      <td>neutral</td>\n",
       "    </tr>\n",
       "    <tr>\n",
       "      <th>1</th>\n",
       "      <td>95260</td>\n",
       "      <td>\"My son is halfway through his fourth week of ...</td>\n",
       "      <td>\"My son halfway fourth week Intuniv. We became...</td>\n",
       "      <td>8.0</td>\n",
       "      <td>2</td>\n",
       "      <td>positive</td>\n",
       "      <td>0.9070</td>\n",
       "      <td>2</td>\n",
       "      <td>positive</td>\n",
       "    </tr>\n",
       "    <tr>\n",
       "      <th>2</th>\n",
       "      <td>92703</td>\n",
       "      <td>\"I used to take another oral contraceptive, wh...</td>\n",
       "      <td>\"I used take another oral contraceptive, 21 pi...</td>\n",
       "      <td>5.0</td>\n",
       "      <td>0</td>\n",
       "      <td>neutral</td>\n",
       "      <td>0.7096</td>\n",
       "      <td>2</td>\n",
       "      <td>positive</td>\n",
       "    </tr>\n",
       "    <tr>\n",
       "      <th>3</th>\n",
       "      <td>138000</td>\n",
       "      <td>\"This is my first time using any form of birth...</td>\n",
       "      <td>\"This first time using form birth control. I&amp;#...</td>\n",
       "      <td>8.0</td>\n",
       "      <td>2</td>\n",
       "      <td>positive</td>\n",
       "      <td>0.7184</td>\n",
       "      <td>2</td>\n",
       "      <td>positive</td>\n",
       "    </tr>\n",
       "    <tr>\n",
       "      <th>4</th>\n",
       "      <td>35696</td>\n",
       "      <td>\"Suboxone has completely turned my life around...</td>\n",
       "      <td>\"Suboxone completely turned life around. I fee...</td>\n",
       "      <td>9.0</td>\n",
       "      <td>2</td>\n",
       "      <td>positive</td>\n",
       "      <td>0.9403</td>\n",
       "      <td>2</td>\n",
       "      <td>positive</td>\n",
       "    </tr>\n",
       "  </tbody>\n",
       "</table>\n",
       "</div>"
      ],
      "text/plain": [
       "       ID                                             review  \\\n",
       "0  206461  \"It has no side effect, I take it in combinati...   \n",
       "1   95260  \"My son is halfway through his fourth week of ...   \n",
       "2   92703  \"I used to take another oral contraceptive, wh...   \n",
       "3  138000  \"This is my first time using any form of birth...   \n",
       "4   35696  \"Suboxone has completely turned my life around...   \n",
       "\n",
       "                                         cleanReview  rating  ratingSentiment  \\\n",
       "0  \"It side effect, I take combination Bystolic 5...     9.0                2   \n",
       "1  \"My son halfway fourth week Intuniv. We became...     8.0                2   \n",
       "2  \"I used take another oral contraceptive, 21 pi...     5.0                0   \n",
       "3  \"This first time using form birth control. I&#...     8.0                2   \n",
       "4  \"Suboxone completely turned life around. I fee...     9.0                2   \n",
       "\n",
       "  ratingSentimentLabel  ReviewScore  vaderSentiment vaderSentimentLabel  \n",
       "0             positive       0.0000               0             neutral  \n",
       "1             positive       0.9070               2            positive  \n",
       "2              neutral       0.7096               2            positive  \n",
       "3             positive       0.7184               2            positive  \n",
       "4             positive       0.9403               2            positive  "
      ]
     },
     "execution_count": 35,
     "metadata": {},
     "output_type": "execute_result"
    }
   ],
   "source": [
    "dru_train.head()"
   ]
  }
 ],
 "metadata": {
  "interpreter": {
   "hash": "150854f2e74f24877b79e8f810308b39773d7b1b9f435895849d0c6a892acfe5"
  },
  "kernelspec": {
   "display_name": "Python 3.7.10 64-bit ('base2': conda)",
   "language": "python",
   "name": "python3"
  },
  "language_info": {
   "codemirror_mode": {
    "name": "ipython",
    "version": 3
   },
   "file_extension": ".py",
   "mimetype": "text/x-python",
   "name": "python",
   "nbconvert_exporter": "python",
   "pygments_lexer": "ipython3",
   "version": "3.7.10"
  },
  "orig_nbformat": 4
 },
 "nbformat": 4,
 "nbformat_minor": 2
}
