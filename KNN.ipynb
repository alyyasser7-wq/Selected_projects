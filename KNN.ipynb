import pandas as pd
import csv , cv2
import numpy as np
import tensorflow, keras
from keras.layers import Input, Conv2D, Activation, MaxPool2D,  Dense, Dropout, Flatten, BatchNormalization
from keras.models import Sequential, Model
from tensorflow.keras.utils import to_categorical
import matplotlib
import matplotlib.pyplot as plt 
from sklearn.metrics import accuracy_score, classification_report, confusion_matrix
import itertools
from sklearn.neural_network import MLPClassifier
from sklearn.model_selection import train_test_split
from sklearn.feature_extraction.text import TfidfVectorizer
from sklearn.neighbors import KNeighborsClassifier
from sklearn.model_selection import train_test_split
from mlxtend.plotting import plot_confusion_matrix
from sklearn import metrics

X_train, X_test, y_train, y_test = train_test_split(features, labels, test_size=0.20)

model = KNeighborsClassifier(n_neighbors=55)

#Train the model using the training sets
model.fit(X_train,y_train)

#PredictOutput
y_pred= model.predict(X_test)
print("Accuracy:",metrics.accuracy_score(y_test, y_pred))
conf_mat = confusion_matrix(y_test,y_pred)
conf_mat
fig,ax = plot_confusion_matrix(conf_mat=conf_mat,colorbar=True,show_absolute=True,cmap='viridis')
print(classification_report(y_test,y_pred,target_names= dru['ratingSentimentLabel'].unique()))
